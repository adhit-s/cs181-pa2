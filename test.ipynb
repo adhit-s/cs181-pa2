{
 "cells": [
  {
   "cell_type": "code",
   "execution_count": 271,
   "metadata": {},
   "outputs": [],
   "source": [
    "import cv2\n",
    "import numpy as np\n",
    "import matplotlib\n",
    "import matplotlib.pyplot as plt"
   ]
  },
  {
   "cell_type": "code",
   "execution_count": 272,
   "metadata": {},
   "outputs": [],
   "source": [
    "img1 = cv2.imread('000000_10_left.png', cv2.IMREAD_GRAYSCALE)\n",
    "img2 = cv2.imread('000000_10_right.png', cv2.IMREAD_GRAYSCALE)"
   ]
  },
  {
   "cell_type": "code",
   "execution_count": 273,
   "metadata": {},
   "outputs": [
    {
     "data": {
      "text/plain": [
       "True"
      ]
     },
     "execution_count": 273,
     "metadata": {},
     "output_type": "execute_result"
    }
   ],
   "source": [
    "def detect_and_match_features(img1, img2, num_matches=50):\n",
    "    sift = cv2.SIFT_create()\n",
    "    kp1, descriptors1 = sift.detectAndCompute(img1, None)\n",
    "    kp2, descriptors2 = sift.detectAndCompute(img2, None)\n",
    "\n",
    "    bf = cv2.BFMatcher(cv2.NORM_L2, crossCheck=True)\n",
    "    matches = bf.match(descriptors1, descriptors2)\n",
    "    matches = sorted(matches, key=lambda x: x.distance)[:num_matches]\n",
    "\n",
    "    return kp1, kp2, matches\n",
    "\n",
    "kp1, kp2, matches = detect_and_match_features(img1, img2)\n",
    "img_matches = cv2.drawMatches(img1, kp1, img2, kp2, matches, None, flags=cv2.DrawMatchesFlags_NOT_DRAW_SINGLE_POINTS)\n",
    "cv2.imwrite('matches.png', img_matches)"
   ]
  },
  {
   "cell_type": "code",
   "execution_count": 274,
   "metadata": {},
   "outputs": [],
   "source": [
    "def find_fundamental(kp1, kp2, matches):\n",
    "    pts1 = np.int32([kp1[m.queryIdx].pt for m in matches])\n",
    "    pts2 = np.int32([kp2[m.trainIdx].pt for m in matches])\n",
    "    F, inliers = cv2.findFundamentalMat(pts1, pts2, cv2.FM_RANSAC)\n",
    "\n",
    "    pts1 = pts1[inliers.ravel() == 1]\n",
    "    pts2 = pts2[inliers.ravel() == 1]\n",
    "    return F, pts1, pts2\n",
    "\n",
    "F, pts1, pts2 = find_fundamental(kp1, kp2, matches)"
   ]
  },
  {
   "cell_type": "code",
   "execution_count": 275,
   "metadata": {},
   "outputs": [
    {
     "name": "stdout",
     "output_type": "stream",
     "text": [
      "[[-4.19250548e+11  3.46779934e+10  2.61484886e+12]\n",
      " [ 4.87898705e-02 -4.12834609e+11  3.30270493e+01]\n",
      " [ 3.89302751e-04  9.35775728e-16 -4.12834609e+11]]\n",
      "[[ 1.00000000e+00 -4.40856708e-13  2.73331580e-10]\n",
      " [ 4.40856708e-13  1.00000000e+00 -8.24229573e-11]\n",
      " [ 0.00000000e+00  0.00000000e+00  1.00000000e+00]]\n"
     ]
    }
   ],
   "source": [
    "def rectify(img1, pts1, img2, pts2):\n",
    "  h1, w1 = img1.shape\n",
    "  h2, w2 = img2.shape\n",
    "  _, H1, H2 = cv2.stereoRectifyUncalibrated(np.float32(pts1), np.float32(pts2), F, imgSize=(h1, w1))\n",
    "  print(H1)\n",
    "  print(H2)\n",
    "\n",
    "  img1r = cv2.warpPerspective(img1, H1, (w1, h1))\n",
    "  img2r = cv2.warpPerspective(img2, H2, (w2, h2))\n",
    "  cv2.imwrite('img1r.png', img1r)\n",
    "  cv2.imwrite('img2r.png', img2r)\n",
    "  return img1r, img2r\n",
    "\n",
    "img1r, img2r = rectify(img1, pts1, img2, pts2)"
   ]
  },
  {
   "cell_type": "code",
   "execution_count": 276,
   "metadata": {},
   "outputs": [
    {
     "name": "stdout",
     "output_type": "stream",
     "text": [
      "[[ 1  1  1 ...  1  1  1]\n",
      " [ 1  1  1 ...  1  1  1]\n",
      " [ 1  1  1 ...  1  1  1]\n",
      " ...\n",
      " [27 28 18 ...  0  0  0]\n",
      " [ 8  7  6 ...  0  0  0]\n",
      " [ 7  7  5 ...  0  0  0]]\n"
     ]
    }
   ],
   "source": [
    "def stereo_block_matching(img1r, img2r, window_size=3, max_disparity=64):\n",
    "    height, width = img1r.shape\n",
    "    disparity_map = np.zeros((height, width), np.float32)\n",
    "    ssd_scores = np.full((height, width, max_disparity), np.inf)\n",
    "    kernel = np.ones((window_size, window_size), dtype=np.float32)\n",
    "\n",
    "    left_sq = img1r.astype(np.float32) ** 2\n",
    "    left_sq_sum = cv2.filter2D(left_sq, -1, kernel)\n",
    "\n",
    "    for d in range(max_disparity):\n",
    "        shifted_right = np.roll(img2r, -d, axis=1)\n",
    "        shifted_right[:, -d:] = 0\n",
    "\n",
    "        right_sq = shifted_right.astype(np.float32) ** 2\n",
    "        right_sq_sum = cv2.filter2D(right_sq, -1, kernel)\n",
    "        cross_term = cv2.filter2D(img1r.astype(np.float32) * shifted_right, -1, kernel)\n",
    "\n",
    "        ssd = left_sq_sum - 2*cross_term + right_sq_sum\n",
    "        ssd_scores[:, :, d] = ssd\n",
    "\n",
    "    disparity_map = np.argmin(ssd_scores, axis=2)\n",
    "    return disparity_map\n",
    "\n",
    "disparities = stereo_block_matching(img1r, img2r, window_size=5, max_disparity=64)\n",
    "print(disparities)"
   ]
  },
  {
   "cell_type": "code",
   "execution_count": 277,
   "metadata": {},
   "outputs": [
    {
     "name": "stdout",
     "output_type": "stream",
     "text": [
      "[[  4   4   4 ...   4   4   4]\n",
      " [  4   4   4 ...   4   4   4]\n",
      " [  4   4   4 ...   4   4   4]\n",
      " ...\n",
      " [109 113  73 ...   0   0   0]\n",
      " [ 32  28  24 ...   0   0   0]\n",
      " [ 28  28  20 ...   0   0   0]]\n"
     ]
    },
    {
     "data": {
      "text/plain": [
       "True"
      ]
     },
     "execution_count": 277,
     "metadata": {},
     "output_type": "execute_result"
    }
   ],
   "source": [
    "disparity_normalized = cv2.normalize(disparities, None, 0, 255, cv2.NORM_MINMAX)\n",
    "disparity_normalized = np.uint8(disparity_normalized)\n",
    "\n",
    "print(disparity_normalized)\n",
    "cv2.imwrite('output.png', disparity_normalized)"
   ]
  }
 ],
 "metadata": {
  "kernelspec": {
   "display_name": ".venv",
   "language": "python",
   "name": "python3"
  },
  "language_info": {
   "codemirror_mode": {
    "name": "ipython",
    "version": 3
   },
   "file_extension": ".py",
   "mimetype": "text/x-python",
   "name": "python",
   "nbconvert_exporter": "python",
   "pygments_lexer": "ipython3",
   "version": "3.12.8"
  }
 },
 "nbformat": 4,
 "nbformat_minor": 2
}
